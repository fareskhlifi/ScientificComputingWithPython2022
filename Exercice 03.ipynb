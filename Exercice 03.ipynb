{
 "cells": [
  {
   "cell_type": "markdown",
   "id": "fb2bf774",
   "metadata": {},
   "source": [
    "1\\. **Number representation**\n",
    "\n",
    "Write a function that converts numbers among the bin, dec, and hex representations (bin<->dec<->hex).\n",
    "Determine the input type in the function, and pass another argument to choose the output representation."
   ]
  },
  {
   "cell_type": "code",
   "execution_count": 42,
   "id": "00b1f535",
   "metadata": {},
   "outputs": [
    {
     "data": {
      "text/plain": [
       "23"
      ]
     },
     "execution_count": 42,
     "metadata": {},
     "output_type": "execute_result"
    }
   ],
   "source": [
    "# a binary or hexadecimal number should be entered as strings\n",
    "\n",
    "def convert_type(x, output_type):\n",
    "    s = str(x) + ' '\n",
    "    if s[1] == 'b' : \n",
    "        y = int(x,2)\n",
    "        return output_type(y)\n",
    "    if s[1] == 'x' : \n",
    "        y = int(x,16)\n",
    "        return output_type(y)\n",
    "    else :\n",
    "        return output_type(y)\n",
    "    \n",
    "convert_type('0x17',int)"
   ]
  },
  {
   "cell_type": "markdown",
   "id": "16bbb7fa",
   "metadata": {},
   "source": [
    "2\\. **32-bit floating point number**\n",
    "\n",
    "Write a function that converts a 32 bit binary string (for example, `110000101011000000000000`) into a single precision floating point in decimal representation. Interpret the various bits as sign, fractional part of the mantissa and exponent, according to the IEEE 754 reccommendations."
   ]
  },
  {
   "cell_type": "code",
   "execution_count": 52,
   "id": "98e728df",
   "metadata": {},
   "outputs": [
    {
     "data": {
      "text/plain": [
       "212.0"
      ]
     },
     "execution_count": 52,
     "metadata": {},
     "output_type": "execute_result"
    }
   ],
   "source": [
    "# x is a 32 bit binary string\n",
    "def float_point_number(x):\n",
    "    exponent = '0b'+ x[1:9]\n",
    "    exponent = convert_type(exponent,int) - 127\n",
    "    mantissa = 0\n",
    "    y = x[9:]\n",
    "    for i in range(1,24):\n",
    "        mantissa += int(y[i-1])*2**(-i)\n",
    "    return ((-1)**(int(x[0]))*(1+mantissa)*2**exponent)\n",
    "\n",
    "float_point_number('01000011010101000000000000000000')   "
   ]
  },
  {
   "cell_type": "markdown",
   "id": "b55427c7",
   "metadata": {},
   "source": [
    "3\\. **Underflow and overflow**\n",
    "\n",
    "Write a program to determine the underflow and overflow limits (within a factor of 2) for floating point numbers on your computer. \n",
    "\n",
    "*Hint*: define two variables initialized to 1, and halve/double them for a sufficient amount of times to exceed the under/over-flow limits."
   ]
  },
  {
   "cell_type": "code",
   "execution_count": null,
   "id": "3d5309e5",
   "metadata": {},
   "outputs": [],
   "source": []
  }
 ],
 "metadata": {
  "kernelspec": {
   "display_name": "Python 3 (ipykernel)",
   "language": "python",
   "name": "python3"
  },
  "language_info": {
   "codemirror_mode": {
    "name": "ipython",
    "version": 3
   },
   "file_extension": ".py",
   "mimetype": "text/x-python",
   "name": "python",
   "nbconvert_exporter": "python",
   "pygments_lexer": "ipython3",
   "version": "3.9.12"
  }
 },
 "nbformat": 4,
 "nbformat_minor": 5
}
