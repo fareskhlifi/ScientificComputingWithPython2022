{
 "cells": [
  {
   "cell_type": "markdown",
   "id": "a6bf45f5",
   "metadata": {},
   "source": [
    "1\\. **The HelloWorld replacement**\n",
    "\n",
    "a) Write a program that:\n",
    "- prints the numbers from 1 to 100\n",
    "- but for multiples of three print \"`Hello`\" instead of the number and for the multiples of five print \"`World`\"\n",
    "- for numbers which are multiples of both three and five print \"`HelloWorld`\"."
   ]
  },
  {
   "cell_type": "code",
   "execution_count": 8,
   "id": "8b00419e",
   "metadata": {},
   "outputs": [
    {
     "name": "stdout",
     "output_type": "stream",
     "text": [
      "1\n",
      "2\n",
      "Hello\n",
      "4\n",
      "World\n",
      "Hello\n",
      "7\n",
      "8\n",
      "Hello\n",
      "World\n",
      "11\n",
      "Hello\n",
      "13\n",
      "14\n",
      "HelloWorld\n",
      "16\n",
      "17\n",
      "Hello\n",
      "19\n",
      "World\n",
      "Hello\n",
      "22\n",
      "23\n",
      "Hello\n",
      "World\n",
      "26\n",
      "Hello\n",
      "28\n",
      "29\n",
      "HelloWorld\n",
      "31\n",
      "32\n",
      "Hello\n",
      "34\n",
      "World\n",
      "Hello\n",
      "37\n",
      "38\n",
      "Hello\n",
      "World\n",
      "41\n",
      "Hello\n",
      "43\n",
      "44\n",
      "HelloWorld\n",
      "46\n",
      "47\n",
      "Hello\n",
      "49\n",
      "World\n",
      "Hello\n",
      "52\n",
      "53\n",
      "Hello\n",
      "World\n",
      "56\n",
      "Hello\n",
      "58\n",
      "59\n",
      "HelloWorld\n",
      "61\n",
      "62\n",
      "Hello\n",
      "64\n",
      "World\n",
      "Hello\n",
      "67\n",
      "68\n",
      "Hello\n",
      "World\n",
      "71\n",
      "Hello\n",
      "73\n",
      "74\n",
      "HelloWorld\n",
      "76\n",
      "77\n",
      "Hello\n",
      "79\n",
      "World\n",
      "Hello\n",
      "82\n",
      "83\n",
      "Hello\n",
      "World\n",
      "86\n",
      "Hello\n",
      "88\n",
      "89\n",
      "HelloWorld\n",
      "91\n",
      "92\n",
      "Hello\n",
      "94\n",
      "World\n",
      "Hello\n",
      "97\n",
      "98\n",
      "Hello\n",
      "World\n"
     ]
    }
   ],
   "source": [
    "for i in range (1,101):\n",
    "    if i%3==0 and i%5!=0 :\n",
    "        print(\"Hello\")\n",
    "    elif i%5==0 and i%3!=0 :\n",
    "        print(\"World\")\n",
    "    elif i%5==0 and i%3==0 :\n",
    "        print(\"HelloWorld\")\n",
    "    else: print(i)\n",
    "            "
   ]
  },
  {
   "cell_type": "markdown",
   "id": "250a887a",
   "metadata": {},
   "source": [
    "b) Put the result in a tuple and substitute \"`Hello`\" with \"`Python`\" and \"`World`\" with \"`Works`\"."
   ]
  },
  {
   "cell_type": "code",
   "execution_count": 1,
   "id": "c759b85c",
   "metadata": {},
   "outputs": [
    {
     "name": "stdout",
     "output_type": "stream",
     "text": [
      "('1', '2', 'Python', '4', 'Works', 'Python', '7', '8', 'Python', 'Works', '11', 'Python', '13', '14', 'PythonWorks', '16', '17', 'Python', '19', 'Works', 'Python', '22', '23', 'Python', 'Works', '26', 'Python', '28', '29', 'PythonWorks', '31', '32', 'Python', '34', 'Works', 'Python', '37', '38', 'Python', 'Works', '41', 'Python', '43', '44', 'PythonWorks', '46', '47', 'Python', '49', 'Works', 'Python', '52', '53', 'Python', 'Works', '56', 'Python', '58', '59', 'PythonWorks', '61', '62', 'Python', '64', 'Works', 'Python', '67', '68', 'Python', 'Works', '71', 'Python', '73', '74', 'PythonWorks', '76', '77', 'Python', '79', 'Works', 'Python', '82', '83', 'Python', 'Works', '86', 'Python', '88', '89', 'PythonWorks', '91', '92', 'Python', '94', 'Works', 'Python', '97', '98', 'Python', 'Works')\n"
     ]
    }
   ],
   "source": [
    "l = []\n",
    "for i in range (1,101):\n",
    "    if i%3==0 and i%5!=0 :\n",
    "        l.append(\"Hello\")\n",
    "    elif i%5==0 and i%3!=0 :\n",
    "        l.append(\"World\")\n",
    "    elif i%5==0 and i%3==0 :\n",
    "        l.append(\"HelloWorld\")\n",
    "    else: l.append(i)\n",
    "        \n",
    "myString = ' '.join(map(str,l))\n",
    "myString = myString.replace(\"Hello\",\"Python\")\n",
    "myString = myString.replace(\"World\",\"Works\")\n",
    "l = myString.split(\" \")\n",
    "t = tuple(l)\n",
    "print(t)"
   ]
  },
  {
   "cell_type": "markdown",
   "id": "f183dd4c",
   "metadata": {},
   "source": [
    "2\\. **The swap**"
   ]
  },
  {
   "cell_type": "code",
   "execution_count": 32,
   "id": "4398a56a",
   "metadata": {},
   "outputs": [
    {
     "name": "stdout",
     "output_type": "stream",
     "text": [
      "x = 1\n",
      "y = 2\n",
      "x = 2\n",
      "y = 1\n"
     ]
    }
   ],
   "source": [
    "l = []\n",
    "x = input(\"x = \")\n",
    "l.append(x)\n",
    "y = input(\"y = \")\n",
    "l.append(y)\n",
    "x,y = l[1],l[0]\n",
    "print(\"x =\",x)\n",
    "print(\"y =\",y)"
   ]
  },
  {
   "cell_type": "markdown",
   "id": "cbd6a37f",
   "metadata": {},
   "source": [
    "3\\. **Computing the distance**"
   ]
  },
  {
   "cell_type": "code",
   "execution_count": 39,
   "id": "75455ec7",
   "metadata": {},
   "outputs": [
    {
     "name": "stdout",
     "output_type": "stream",
     "text": [
      "u(x)= 3\n",
      "u(y)= 0\n",
      "v(x)= 0\n",
      "v(y)= 4\n",
      "5.0\n"
     ]
    }
   ],
   "source": [
    "import math\n",
    "x1 = input(\"u(x)= \")\n",
    "y1 = input(\"u(y)= \")\n",
    "x2 = input(\"v(x)= \")\n",
    "y2 = input(\"v(y)= \")\n",
    "u = (x1,y1)\n",
    "v = (x2,y2)\n",
    "D = (int(u[0])-int(v[0]))**2 + (int(u[1])-int(v[1]))**2\n",
    "print (math.sqrt(D))"
   ]
  },
  {
   "cell_type": "markdown",
   "id": "d190bacf",
   "metadata": {},
   "source": [
    "4\\. **Counting letters**"
   ]
  },
  {
   "cell_type": "code",
   "execution_count": 50,
   "id": "eae4a915",
   "metadata": {},
   "outputs": [
    {
     "name": "stdout",
     "output_type": "stream",
     "text": [
      "[('W', 3), ('r', 19), ('i', 12), ('t', 19), ('e', 20), (' ', 43), ('a', 7), ('p', 8), ('o', 15), ('g', 1), ('m', 8), ('h', 9), ('n', 10), ('s', 7), ('u', 7), ('b', 4), ('f', 9), ('1', 2), ('0', 2), ('.', 3), ('\\\\', 2), ('B', 1), ('l', 12), ('H', 2), ('d', 5), ('v', 2), ('F', 1), ('w', 1), ('c', 1)]\n",
      "----------------------\n",
      "[('W', 3), ('r', 19), ('i', 12), ('t', 19), ('e', 20), (' ', 43), ('a', 7), ('p', 8), ('o', 15), ('g', 1), ('m', 8), ('h', 9), ('n', 10), ('s', 7), ('u', 7), ('b', 4), ('f', 9), ('1', 2), ('0', 2), ('.', 3), ('\\\\', 2), ('B', 1), ('l', 12), ('H', 2), ('d', 5), ('v', 2), ('F', 1), ('w', 1), ('c', 1)]\n"
     ]
    }
   ],
   "source": [
    "def count_letters(string):\n",
    "    l = []\n",
    "    for i in range(len(myString)):\n",
    "        l.append(myString[i])\n",
    "    characters,iterations = [],[]\n",
    "    a = dict\n",
    "    for x in l:\n",
    "        if x not in characters:\n",
    "            characters.append(x)\n",
    "            iterations.append(l.count(x))\n",
    "    zipped = zip(characters,iterations)\n",
    "    print(list(zipped))\n",
    "s1 = \"Write a program that prints the numbers from 1 to 100. \\\n",
    "But for multiples of three print Hello instead of the number and for the multiples of five print World. \\\n",
    "For numbers which are multiples of both three and five print HelloWorld.\"\n",
    "s2 = \"The quick brown fox jumps over the lazy dog\" \n",
    "count_letters(s1)\n",
    "print(\"----------------------\")\n",
    "count_letters(s2)\n"
   ]
  },
  {
   "cell_type": "markdown",
   "id": "926e44e8",
   "metadata": {},
   "source": [
    "5\\. **Isolating the unique**"
   ]
  },
  {
   "cell_type": "code",
   "execution_count": 55,
   "id": "eb936b26",
   "metadata": {},
   "outputs": [
    {
     "name": "stdout",
     "output_type": "stream",
     "text": [
      "54 unique numbers which are : [36, 45, 58, 3, 74, 96, 64, 31, 10, 24, 19, 33, 86, 99, 18, 63, 70, 85, 47, 56, 42, 84, 88, 55, 20, 54, 8, 51, 79, 81, 57, 37, 91, 1, 66, 9, 89, 50, 95, 90, 98, 39, 16, 82, 92, 41, 30, 34, 94, 5, 72, 87, 75, 53]\n"
     ]
    }
   ],
   "source": [
    "l = [36, 45, 58, 3, 74, 96, 64, 45, 31, 10, 24, 19, 33, 86, 99, 18, 63, 70, 85,\n",
    " 85, 63, 47, 56, 42, 70, 84, 88, 55, 20, 54, 8, 56, 51, 79, 81, 57, 37, 91,\n",
    " 1, 84, 84, 36, 66, 9, 89, 50, 42, 91, 50, 95, 90, 98, 39, 16, 82, 31, 92, 41,\n",
    " 45, 30, 66, 70, 34, 85, 94, 5, 3, 36, 72, 91, 84, 34, 87, 75, 53, 51, 20, 89, 51, 20]\n",
    "unique = []\n",
    "for x in l:\n",
    "    if x not in unique:\n",
    "        unique.append(x)\n",
    "print(len(unique),\"unique numbers which are :\", unique)"
   ]
  },
  {
   "cell_type": "markdown",
   "id": "719cdc09",
   "metadata": {},
   "source": [
    "6\\. **Casting**"
   ]
  },
  {
   "cell_type": "code",
   "execution_count": 84,
   "id": "29594177",
   "metadata": {},
   "outputs": [
    {
     "name": "stdout",
     "output_type": "stream",
     "text": [
      "x =14\n",
      "y =52\n",
      "66.0\n"
     ]
    }
   ],
   "source": [
    "x = input(\"x =\")\n",
    "y = input(\"y =\")\n",
    "if type(float(x))== int:\n",
    "    x=float(x)\n",
    "try:\n",
    "    print(float(x)+float(y)) \n",
    "except:\n",
    "    print(\"not the same type\")"
   ]
  },
  {
   "cell_type": "markdown",
   "id": "dd86dadd",
   "metadata": {},
   "source": [
    "7\\. **Cubes**\n",
    "\n",
    "a) a for loop"
   ]
  },
  {
   "cell_type": "code",
   "execution_count": 65,
   "id": "9061289a",
   "metadata": {},
   "outputs": [
    {
     "name": "stdout",
     "output_type": "stream",
     "text": [
      "[0, 1, 8, 27, 64, 125, 216, 343, 512, 729, 1000]\n"
     ]
    }
   ],
   "source": [
    "l = []\n",
    "for x in range(11):\n",
    "    l.append(x**3)\n",
    "print(l)"
   ]
  },
  {
   "cell_type": "markdown",
   "id": "f57f547f",
   "metadata": {},
   "source": [
    "b) a list comprehension"
   ]
  },
  {
   "cell_type": "code",
   "execution_count": 66,
   "id": "20453a02",
   "metadata": {},
   "outputs": [
    {
     "name": "stdout",
     "output_type": "stream",
     "text": [
      "[0, 1, 8, 27, 64, 125, 216, 343, 512, 729, 1000]\n"
     ]
    }
   ],
   "source": [
    "L = [x**3 for x in range(11)]\n",
    "print(L)"
   ]
  },
  {
   "cell_type": "markdown",
   "id": "12cca9e4",
   "metadata": {},
   "source": [
    "8\\. **List comprehension**"
   ]
  },
  {
   "cell_type": "code",
   "execution_count": 77,
   "id": "a166c78e",
   "metadata": {},
   "outputs": [
    {
     "name": "stdout",
     "output_type": "stream",
     "text": [
      "[[(0, 0), (0, 1), (0, 2), (0, 3), (1, 0), (1, 1), (1, 2), (1, 3), (2, 0), (2, 1), (2, 2), (2, 3)]]\n"
     ]
    }
   ],
   "source": [
    "a = [[(i, j) for i in range(3) for j in range(4)]]\n",
    "print(a)"
   ]
  },
  {
   "cell_type": "markdown",
   "id": "019df45a",
   "metadata": {},
   "source": [
    "9\\. **Nested list comprehension**"
   ]
  },
  {
   "cell_type": "code",
   "execution_count": 83,
   "id": "90a6cc1b",
   "metadata": {},
   "outputs": [
    {
     "name": "stdout",
     "output_type": "stream",
     "text": [
      "[]\n"
     ]
    }
   ],
   "source": [
    "import math\n",
    "l = []\n",
    "for a in range(100):\n",
    "    for b in range(100):\n",
    "        x = a**2 + b**2\n",
    "        c = math.sqrt(x)\n",
    "        if type(c) == int:\n",
    "            l.append([a,b,c])\n",
    "print(l)"
   ]
  },
  {
   "cell_type": "code",
   "execution_count": 79,
   "id": "a0c7c144",
   "metadata": {},
   "outputs": [
    {
     "data": {
      "text/plain": [
       "False"
      ]
     },
     "execution_count": 79,
     "metadata": {},
     "output_type": "execute_result"
    }
   ],
   "source": [
    "x = 7.2\n",
    "type(x)==int"
   ]
  }
 ],
 "metadata": {
  "kernelspec": {
   "display_name": "Python 3 (ipykernel)",
   "language": "python",
   "name": "python3"
  },
  "language_info": {
   "codemirror_mode": {
    "name": "ipython",
    "version": 3
   },
   "file_extension": ".py",
   "mimetype": "text/x-python",
   "name": "python",
   "nbconvert_exporter": "python",
   "pygments_lexer": "ipython3",
   "version": "3.9.12"
  }
 },
 "nbformat": 4,
 "nbformat_minor": 5
}
