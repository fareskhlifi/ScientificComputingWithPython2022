{
 "cells": [
  {
   "cell_type": "markdown",
   "id": "a6bf45f5",
   "metadata": {},
   "source": [
    "1\\. **The HelloWorld replacement**\n",
    "\n",
    "a) Write a program that:\n",
    "- prints the numbers from 1 to 100\n",
    "- but for multiples of three print \"`Hello`\" instead of the number and for the multiples of five print \"`World`\"\n",
    "- for numbers which are multiples of both three and five print \"`HelloWorld`\"."
   ]
  },
  {
   "cell_type": "code",
   "execution_count": 8,
   "id": "8b00419e",
   "metadata": {},
   "outputs": [
    {
     "name": "stdout",
     "output_type": "stream",
     "text": [
      "1\n",
      "2\n",
      "Hello\n",
      "4\n",
      "World\n",
      "Hello\n",
      "7\n",
      "8\n",
      "Hello\n",
      "World\n",
      "11\n",
      "Hello\n",
      "13\n",
      "14\n",
      "HelloWorld\n",
      "16\n",
      "17\n",
      "Hello\n",
      "19\n",
      "World\n",
      "Hello\n",
      "22\n",
      "23\n",
      "Hello\n",
      "World\n",
      "26\n",
      "Hello\n",
      "28\n",
      "29\n",
      "HelloWorld\n",
      "31\n",
      "32\n",
      "Hello\n",
      "34\n",
      "World\n",
      "Hello\n",
      "37\n",
      "38\n",
      "Hello\n",
      "World\n",
      "41\n",
      "Hello\n",
      "43\n",
      "44\n",
      "HelloWorld\n",
      "46\n",
      "47\n",
      "Hello\n",
      "49\n",
      "World\n",
      "Hello\n",
      "52\n",
      "53\n",
      "Hello\n",
      "World\n",
      "56\n",
      "Hello\n",
      "58\n",
      "59\n",
      "HelloWorld\n",
      "61\n",
      "62\n",
      "Hello\n",
      "64\n",
      "World\n",
      "Hello\n",
      "67\n",
      "68\n",
      "Hello\n",
      "World\n",
      "71\n",
      "Hello\n",
      "73\n",
      "74\n",
      "HelloWorld\n",
      "76\n",
      "77\n",
      "Hello\n",
      "79\n",
      "World\n",
      "Hello\n",
      "82\n",
      "83\n",
      "Hello\n",
      "World\n",
      "86\n",
      "Hello\n",
      "88\n",
      "89\n",
      "HelloWorld\n",
      "91\n",
      "92\n",
      "Hello\n",
      "94\n",
      "World\n",
      "Hello\n",
      "97\n",
      "98\n",
      "Hello\n",
      "World\n"
     ]
    }
   ],
   "source": [
    "for i in range (1,101):\n",
    "    if i%3==0 and i%5!=0 :\n",
    "        print(\"Hello\")\n",
    "    elif i%5==0 and i%3!=0 :\n",
    "        print(\"World\")\n",
    "    elif i%5==0 and i%3==0 :\n",
    "        print(\"HelloWorld\")\n",
    "    else: print(i)\n",
    "            "
   ]
  },
  {
   "cell_type": "markdown",
   "id": "250a887a",
   "metadata": {},
   "source": [
    "b) Put the result in a tuple and substitute \"`Hello`\" with \"`Python`\" and \"`World`\" with \"`Works`\"."
   ]
  },
  {
   "cell_type": "code",
   "execution_count": 1,
   "id": "c759b85c",
   "metadata": {},
   "outputs": [
    {
     "name": "stdout",
     "output_type": "stream",
     "text": [
      "('1', '2', 'Python', '4', 'Works', 'Python', '7', '8', 'Python', 'Works', '11', 'Python', '13', '14', 'PythonWorks', '16', '17', 'Python', '19', 'Works', 'Python', '22', '23', 'Python', 'Works', '26', 'Python', '28', '29', 'PythonWorks', '31', '32', 'Python', '34', 'Works', 'Python', '37', '38', 'Python', 'Works', '41', 'Python', '43', '44', 'PythonWorks', '46', '47', 'Python', '49', 'Works', 'Python', '52', '53', 'Python', 'Works', '56', 'Python', '58', '59', 'PythonWorks', '61', '62', 'Python', '64', 'Works', 'Python', '67', '68', 'Python', 'Works', '71', 'Python', '73', '74', 'PythonWorks', '76', '77', 'Python', '79', 'Works', 'Python', '82', '83', 'Python', 'Works', '86', 'Python', '88', '89', 'PythonWorks', '91', '92', 'Python', '94', 'Works', 'Python', '97', '98', 'Python', 'Works')\n"
     ]
    }
   ],
   "source": [
    "l = []\n",
    "for i in range (1,101):\n",
    "    if i%3==0 and i%5!=0 :\n",
    "        l.append(\"Hello\")\n",
    "    elif i%5==0 and i%3!=0 :\n",
    "        l.append(\"World\")\n",
    "    elif i%5==0 and i%3==0 :\n",
    "        l.append(\"HelloWorld\")\n",
    "    else: l.append(i)\n",
    "        \n",
    "myString = ' '.join(map(str,l))\n",
    "myString = myString.replace(\"Hello\",\"Python\")\n",
    "myString = myString.replace(\"World\",\"Works\")\n",
    "l = myString.split(\" \")\n",
    "t = tuple(l)\n",
    "print(t)"
   ]
  },
  {
   "cell_type": "markdown",
   "id": "f183dd4c",
   "metadata": {},
   "source": [
    "2\\. **The swap**\n",
    "\n",
    "Write a program that swaps the values of two input variables *x* and *y* from command line (whatever the type).\n",
    "\n",
    "Try to do that without using a temporary variable, exploiting the Python syntax."
   ]
  },
  {
   "cell_type": "code",
   "execution_count": 32,
   "id": "4398a56a",
   "metadata": {},
   "outputs": [
    {
     "name": "stdout",
     "output_type": "stream",
     "text": [
      "x = 1\n",
      "y = 2\n",
      "x = 2\n",
      "y = 1\n"
     ]
    }
   ],
   "source": [
    "l = []\n",
    "x = input(\"x = \")\n",
    "l.append(x)\n",
    "y = input(\"y = \")\n",
    "l.append(y)\n",
    "x,y = l[1],l[0]\n",
    "print(\"x =\",x)\n",
    "print(\"y =\",y)"
   ]
  },
  {
   "cell_type": "code",
   "execution_count": 4,
   "id": "c9ef60e6",
   "metadata": {},
   "outputs": [
    {
     "name": "stdout",
     "output_type": "stream",
     "text": [
      "x = 1\n",
      "y = 2\n",
      "2 1\n",
      "<class 'str'> <class 'str'>\n"
     ]
    }
   ],
   "source": [
    "x = input(\"x = \")\n",
    "y = input(\"y = \")\n",
    "s1 = type(x)\n",
    "s2 = type(y)\n",
    "x = str(x)\n",
    "x1 = len(x)\n",
    "x += str(y)\n",
    "y = s2(x[:x1])\n",
    "x = s1(x[x1:])\n",
    "print(x,y)\n",
    "print(s1,s2)"
   ]
  },
  {
   "cell_type": "code",
   "execution_count": 5,
   "id": "435dcf41",
   "metadata": {},
   "outputs": [
    {
     "name": "stdout",
     "output_type": "stream",
     "text": [
      "x = 1\n",
      "y = 2\n",
      "2 1\n"
     ]
    }
   ],
   "source": [
    "x = input(\"x = \")\n",
    "y = input(\"y = \")\n",
    "\n",
    "x,y = y,x\n",
    "print(x,y)"
   ]
  },
  {
   "cell_type": "markdown",
   "id": "cbd6a37f",
   "metadata": {},
   "source": [
    "3\\. **Computing the distance**"
   ]
  },
  {
   "cell_type": "code",
   "execution_count": 6,
   "id": "75455ec7",
   "metadata": {},
   "outputs": [
    {
     "name": "stdout",
     "output_type": "stream",
     "text": [
      "u(x)= 1\n",
      "u(y)= 2\n",
      "v(x)= 3\n",
      "v(y)= 6\n",
      "the distance between x and y = 4.47213595499958\n"
     ]
    }
   ],
   "source": [
    "import math\n",
    "x1 = input(\"u(x)= \")\n",
    "y1 = input(\"u(y)= \")\n",
    "x2 = input(\"v(x)= \")\n",
    "y2 = input(\"v(y)= \")\n",
    "u = (x1,y1)\n",
    "v = (x2,y2)\n",
    "D = (int(u[0])-int(v[0]))**2 + (int(u[1])-int(v[1]))**2\n",
    "print ('the distance between x and y is :',math.sqrt(D))"
   ]
  },
  {
   "cell_type": "markdown",
   "id": "d190bacf",
   "metadata": {},
   "source": [
    "4\\. **Counting letters**"
   ]
  },
  {
   "cell_type": "code",
   "execution_count": 12,
   "id": "eae4a915",
   "metadata": {},
   "outputs": [
    {
     "name": "stdout",
     "output_type": "stream",
     "text": [
      "[('w', 4), ('r', 19), ('i', 12), ('t', 19), ('e', 20), (' ', 41), ('a', 7), ('p', 8), ('o', 15), ('g', 1), ('m', 8), ('h', 11), ('n', 10), ('s', 7), ('u', 7), ('b', 5), ('f', 10), ('1', 2), ('0', 2), ('.', 3), ('l', 12), ('d', 5), ('v', 2), ('c', 1)]\n",
      "----------------------\n",
      "[('t', 2), ('h', 2), ('e', 3), (' ', 8), ('q', 1), ('u', 2), ('i', 1), ('c', 1), ('k', 1), ('b', 1), ('r', 2), ('o', 4), ('w', 1), ('n', 1), ('f', 1), ('x', 1), ('j', 1), ('m', 1), ('p', 1), ('s', 1), ('v', 1), ('l', 1), ('a', 1), ('z', 1), ('y', 1), ('d', 1), ('g', 1)]\n"
     ]
    }
   ],
   "source": [
    "def count_letters(myString):\n",
    "    l = []\n",
    "    for i in range(len(myString)):\n",
    "        l.append(myString[i])\n",
    "    characters,iterations = [],[]\n",
    "    a = dict\n",
    "    for x in l:\n",
    "        if x not in characters:\n",
    "            characters.append(x)\n",
    "            iterations.append(l.count(x))\n",
    "    zipped = zip(characters,iterations)\n",
    "    print(list(zipped))\n",
    "s1 = \"Write a program that prints the numbers from 1 to 100. \\\n",
    "But for multiples of three print Hello instead of the number and for the multiples of five print World. \\\n",
    "For numbers which are multiples of both three and five print HelloWorld.\"\n",
    "s2 = \"The quick brown fox jumps over the lazy dog\" \n",
    "count_letters(s1.lower())\n",
    "print(\"----------------------\")\n",
    "count_letters(s2.lower())\n"
   ]
  },
  {
   "cell_type": "markdown",
   "id": "926e44e8",
   "metadata": {},
   "source": [
    "5\\. **Isolating the unique**"
   ]
  },
  {
   "cell_type": "code",
   "execution_count": 25,
   "id": "eb936b26",
   "metadata": {},
   "outputs": [
    {
     "name": "stdout",
     "output_type": "stream",
     "text": [
      "[(36, 3), (45, 3), (58, 1), (3, 2), (74, 1), (96, 1), (64, 1), (31, 2), (10, 1), (24, 1), (19, 1), (33, 1), (86, 1), (99, 1), (18, 1), (63, 2), (70, 3), (85, 3), (47, 1), (56, 2), (42, 2), (84, 4), (88, 1), (55, 1), (20, 3), (54, 1), (8, 1), (51, 3), (79, 1), (81, 1), (57, 1), (37, 1), (91, 3), (1, 1), (66, 2), (9, 1), (89, 2), (50, 2), (95, 1), (90, 1), (98, 1), (39, 1), (16, 1), (82, 1), (92, 1), (41, 1), (30, 1), (34, 2), (94, 1), (5, 1), (72, 1), (87, 1), (75, 1), (53, 1)] \n",
      "\n",
      "list of unique numbers which are : 37 \n",
      "\n",
      "[58, 74, 96, 64, 10, 24, 19, 33, 86, 99, 18, 47, 88, 55, 54, 8, 79, 81, 57, 37, 1, 9, 95, 90, 98, 39, 16, 82, 92, 41, 30, 94, 5, 72, 87, 75, 53]\n"
     ]
    }
   ],
   "source": [
    "l = [36, 45, 58, 3, 74, 96, 64, 45, 31, 10, 24, 19, 33, 86, 99, 18, 63, 70, 85,\n",
    " 85, 63, 47, 56, 42, 70, 84, 88, 55, 20, 54, 8, 56, 51, 79, 81, 57, 37, 91,\n",
    " 1, 84, 84, 36, 66, 9, 89, 50, 42, 91, 50, 95, 90, 98, 39, 16, 82, 31, 92, 41,\n",
    " 45, 30, 66, 70, 34, 85, 94, 5, 3, 36, 72, 91, 84, 34, 87, 75, 53, 51, 20, 89, 51, 20]\n",
    "unique = []\n",
    "characters, iterations = [],[]\n",
    "for x in l:\n",
    "    if x not in characters:\n",
    "        characters.append(x)\n",
    "        iterations.append(l.count(x))\n",
    "\n",
    "zipped = list(zip(characters,iterations))\n",
    "print(zipped,'\\n')\n",
    "for (x,y) in zipped:\n",
    "    if y == 1 :\n",
    "        unique.append(x)\n",
    "\n",
    "print('list of unique numbers which are :',len(unique),'\\n')\n",
    "print(unique)"
   ]
  },
  {
   "cell_type": "markdown",
   "id": "719cdc09",
   "metadata": {},
   "source": [
    "6\\. **Casting**\n",
    "\n",
    "Write a program that:\n",
    "* reads from command line two variables, that can be either `int`, `float`, or `str`.\n",
    "* use the `try`/`except` expressions to perform the addition of these two variables, only if possible\n",
    "* and print the result without making the code crash for all the `int`/`float`/`str` input combinations."
   ]
  },
  {
   "cell_type": "code",
   "execution_count": 54,
   "id": "29594177",
   "metadata": {},
   "outputs": [
    {
     "name": "stdout",
     "output_type": "stream",
     "text": [
      "x =4.5\n",
      "y =5\n",
      "9.5\n"
     ]
    }
   ],
   "source": [
    "x = input(\"x =\")          \n",
    "y = input(\"y =\")\n",
    "\n",
    "try:\n",
    "    x = float(x)\n",
    "except ValueError:\n",
    "    x = x\n",
    "try:\n",
    "    y = float(y)\n",
    "except ValueError:\n",
    "    y = y\n",
    "try:\n",
    "    c = x + y\n",
    "    print(c)\n",
    "except TypeError:\n",
    "    print('not the same type')"
   ]
  },
  {
   "cell_type": "markdown",
   "id": "dd86dadd",
   "metadata": {},
   "source": [
    "7\\. **Cubes**\n",
    "\n",
    "a) a for loop"
   ]
  },
  {
   "cell_type": "code",
   "execution_count": 65,
   "id": "9061289a",
   "metadata": {},
   "outputs": [
    {
     "name": "stdout",
     "output_type": "stream",
     "text": [
      "[0, 1, 8, 27, 64, 125, 216, 343, 512, 729, 1000]\n"
     ]
    }
   ],
   "source": [
    "l = []\n",
    "for x in range(11):\n",
    "    l.append(x**3)\n",
    "print(l)"
   ]
  },
  {
   "cell_type": "markdown",
   "id": "f57f547f",
   "metadata": {},
   "source": [
    "b) a list comprehension"
   ]
  },
  {
   "cell_type": "code",
   "execution_count": 66,
   "id": "20453a02",
   "metadata": {},
   "outputs": [
    {
     "name": "stdout",
     "output_type": "stream",
     "text": [
      "[0, 1, 8, 27, 64, 125, 216, 343, 512, 729, 1000]\n"
     ]
    }
   ],
   "source": [
    "L = [x**3 for x in range(11)]\n",
    "print(L)"
   ]
  },
  {
   "cell_type": "markdown",
   "id": "12cca9e4",
   "metadata": {},
   "source": [
    "8\\. **List comprehension**"
   ]
  },
  {
   "cell_type": "code",
   "execution_count": 55,
   "id": "a166c78e",
   "metadata": {},
   "outputs": [
    {
     "name": "stdout",
     "output_type": "stream",
     "text": [
      "[(0, 0), (0, 1), (0, 2), (0, 3), (1, 0), (1, 1), (1, 2), (1, 3), (2, 0), (2, 1), (2, 2), (2, 3)]\n"
     ]
    }
   ],
   "source": [
    "a = [(i, j) for i in range(3) for j in range(4)]\n",
    "print(a)"
   ]
  },
  {
   "cell_type": "markdown",
   "id": "019df45a",
   "metadata": {},
   "source": [
    "9\\. **Nested list comprehension**\n",
    "\n",
    "> A Pythagorean triple is an integer solution to the Pythagorean theorem $a^2+b^2=c^2$. The first Pythagorean triple is (3, 4, 5).\n",
    "\n",
    "Find and put in a tuple all unique Pythagorean triples for the positive integers $a$, $b$ and $c$ with $c < 100$."
   ]
  },
  {
   "cell_type": "code",
   "execution_count": 90,
   "id": "90a6cc1b",
   "metadata": {},
   "outputs": [
    {
     "name": "stdout",
     "output_type": "stream",
     "text": [
      "([3, 4, 5], [5, 12, 13], [6, 8, 10], [7, 24, 25], [8, 15, 17], [9, 12, 15], [9, 40, 41], [10, 24, 26], [11, 60, 61], [12, 16, 20], [12, 35, 37], [13, 84, 85], [14, 48, 50], [15, 20, 25], [15, 36, 39], [16, 30, 34], [16, 63, 65], [18, 24, 30], [18, 80, 82], [20, 21, 29], [20, 48, 52], [21, 28, 35], [21, 72, 75], [24, 32, 40], [24, 45, 51], [24, 70, 74], [25, 60, 65], [27, 36, 45], [28, 45, 53], [30, 40, 50], [30, 72, 78], [32, 60, 68], [33, 44, 55], [33, 56, 65], [35, 84, 91], [36, 48, 60], [36, 77, 85], [39, 52, 65], [39, 80, 89], [40, 42, 58], [40, 75, 85], [42, 56, 70], [45, 60, 75], [48, 55, 73], [48, 64, 80], [51, 68, 85], [54, 72, 90], [57, 76, 95], [60, 63, 87], [65, 72, 97])\n"
     ]
    }
   ],
   "source": [
    "from math import sqrt\n",
    "l = [x**2 for x in range(100)]\n",
    "L = []\n",
    "for a in range(1,100):\n",
    "    for b in range(1,100):\n",
    "        x = a**2 + b**2\n",
    "        if x in l:\n",
    "            c = int(sqrt(x))\n",
    "            if [b,a,c] not in L:\n",
    "                L.append([a,b,c])\n",
    "L = tuple(L)\n",
    "print(L)"
   ]
  },
  {
   "cell_type": "markdown",
   "id": "2f65402e",
   "metadata": {},
   "source": [
    "10\\. **Normalization of a N-dimensional vector**\n",
    "\n",
    "Write a program that takes an N-dimensional vector, e.g. a variable-length tuple of numbers, and normalizes it to one (in such a way that the squared sum of all the entries is equal to 1)."
   ]
  },
  {
   "cell_type": "code",
   "execution_count": 110,
   "id": "094b92ff",
   "metadata": {},
   "outputs": [
    {
     "name": "stdout",
     "output_type": "stream",
     "text": [
      "Normalized list:\n",
      " [0.007109609844848337, 0.008887012306060421, 0.0023698699482827793, 0.010664414767272506, 0.26661036918181263, 0.35725789470362895, 0.10605168018565436, 0.8887012306060422] \n",
      "\n",
      "sum of the list squared: 1.0\n"
     ]
    }
   ],
   "source": [
    "from math import sqrt\n",
    "l = [12, 15, 4, 18, 450, 603, 179, 1500] #list to be normalized\n",
    "L = [i**2 for i in l]\n",
    "Norm = sqrt(sum(L))\n",
    "for i in range(len(l)):\n",
    "    l[i]/=Norm\n",
    "l_squared = [i**2 for i in l]\n",
    "print('Normalized list:\\n',l,'\\n\\nsum of the list squared:',sum(l_squared))"
   ]
  },
  {
   "cell_type": "markdown",
   "id": "30a06424",
   "metadata": {},
   "source": [
    "11\\. **The Fibonacci sequence**\n",
    "\n",
    "Calculate the first 20 numbers of the [Fibonacci sequence](https://en.wikipedia.org/wiki/Fibonacci_number) using only `for` or `while` loops."
   ]
  },
  {
   "cell_type": "code",
   "execution_count": 117,
   "id": "45c271ca",
   "metadata": {},
   "outputs": [
    {
     "name": "stdout",
     "output_type": "stream",
     "text": [
      "[0, 1, 1, 2, 3, 5, 8, 13, 21, 34, 55, 89, 144, 233, 377, 610, 987, 1597, 2584, 4181]\n"
     ]
    }
   ],
   "source": [
    "fib = [0 for i in range(20)]\n",
    "fib[1] = 1\n",
    "for i in range(2,len(fib)):\n",
    "    fib[i] = fib[i-1] + fib[i-2]\n",
    "print(fib)"
   ]
  }
 ],
 "metadata": {
  "kernelspec": {
   "display_name": "Python 3 (ipykernel)",
   "language": "python",
   "name": "python3"
  },
  "language_info": {
   "codemirror_mode": {
    "name": "ipython",
    "version": 3
   },
   "file_extension": ".py",
   "mimetype": "text/x-python",
   "name": "python",
   "nbconvert_exporter": "python",
   "pygments_lexer": "ipython3",
   "version": "3.9.12"
  }
 },
 "nbformat": 4,
 "nbformat_minor": 5
}
