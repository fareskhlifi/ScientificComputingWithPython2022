{
 "cells": [
  {
   "cell_type": "markdown",
   "id": "b29a8bb0",
   "metadata": {},
   "source": [
    "1\\. **Global variables**\n",
    "\n",
    "Convert the function  𝑓  into a function that doesn't use global variables and that does not modify the original list"
   ]
  },
  {
   "cell_type": "code",
   "execution_count": 19,
   "id": "8bcbc027",
   "metadata": {},
   "outputs": [
    {
     "name": "stdout",
     "output_type": "stream",
     "text": [
      "[1, 2, 3, 0, 1, 2, 3, 4]\n",
      "[1, 2, 3]\n"
     ]
    }
   ],
   "source": [
    "x = 5\n",
    "\n",
    "def f(alist):\n",
    "    for i in range(x):\n",
    "        alist = alist + [i]\n",
    "    return alist\n",
    "\n",
    "alist = [1, 2, 3]\n",
    "ans = f(alist)\n",
    "print(ans)\n",
    "print(alist) # alist has been changed"
   ]
  },
  {
   "cell_type": "markdown",
   "id": "bceef09b",
   "metadata": {},
   "source": [
    "2\\. **List comprehension**\n",
    "\n",
    "Write the following expression using a list comprehension:\n",
    "\n",
    "`ans = list(map(lambda x: x * x, filter(lambda x: x % 2 == 1, range(10)))`"
   ]
  },
  {
   "cell_type": "code",
   "execution_count": 26,
   "id": "1a529fe5",
   "metadata": {},
   "outputs": [
    {
     "name": "stdout",
     "output_type": "stream",
     "text": [
      "[1, 9, 25, 49, 81]\n"
     ]
    }
   ],
   "source": [
    "ans = [x**2 for x in range(10) if x % 2 == 1]\n",
    "print(ans)"
   ]
  },
  {
   "cell_type": "markdown",
   "id": "da4f77a9",
   "metadata": {},
   "source": [
    "3\\. **Filter list**\n",
    "\n",
    "Using the `filter()` hof, define a function that takes a list of words and an integer `n` as arguments, and returns a list of words that are shorter than `n`."
   ]
  },
  {
   "cell_type": "code",
   "execution_count": 38,
   "id": "9605c0e2",
   "metadata": {},
   "outputs": [
    {
     "name": "stdout",
     "output_type": "stream",
     "text": [
      "['hello', 'abc']\n"
     ]
    }
   ],
   "source": [
    "def filter_list(L ,n):\n",
    "    print(list(filter(lambda x: len(x) < n,L)))\n",
    "test = [\"hello\",\"python\",\"scientific\",\"computing\",\"abc\"]\n",
    "\n",
    "filter_list(test,6)    "
   ]
  },
  {
   "cell_type": "markdown",
   "id": "3b4bfa5c",
   "metadata": {},
   "source": [
    "4\\. **Map dictionary**\n",
    "\n",
    "\n",
    "Consider the following dictionary:\n",
    "\n",
    "`lang = {\"Python\" : 3, \"Java\" : '', \"Cplusplus\" : 'test', \"Php\" : 0.7}`\n",
    "\n",
    "Write a function that takes the above dictionary and uses the `map()` higher order function to return a list that contains the length of the keys of the dictionary."
   ]
  },
  {
   "cell_type": "code",
   "execution_count": 41,
   "id": "a2972ebc",
   "metadata": {},
   "outputs": [
    {
     "name": "stdout",
     "output_type": "stream",
     "text": [
      "[6, 4, 9, 3]\n"
     ]
    }
   ],
   "source": [
    "lang = {\"Python\" : 3, \"Java\" : '', \"Cplusplus\" : 'test', \"Php\" : 0.7}\n",
    "\n",
    "print(list(map(lambda x: len(x),lang)))"
   ]
  },
  {
   "cell_type": "markdown",
   "id": "9f6010f3",
   "metadata": {},
   "source": [
    "5\\. **Lambda functions**\n",
    "\n",
    "Write a Python program that sorts the following list of tuples using a lambda function, according to the alphabetical order of the first element of the tuple:\n",
    "\n",
    "`language_scores = [('Python', 97), ('Cplusplus', 81), ('Php', 45), ('Java', 32)]`\n",
    "\n",
    "*Hint*: use the method `sort()` and its argument `key` of the `list` data structure."
   ]
  },
  {
   "cell_type": "code",
   "execution_count": 4,
   "id": "113d541a",
   "metadata": {},
   "outputs": [
    {
     "name": "stdout",
     "output_type": "stream",
     "text": [
      "[('Cplusplus', 81), ('Java', 32), ('Php', 45), ('Python', 97)]\n"
     ]
    }
   ],
   "source": [
    "language_scores = [('Python', 97), ('Cplusplus', 81), ('Php', 45), ('Java', 32)]\n",
    "\n",
    "print(sorted(language_scores, key=lambda first_element : first_element[0]))"
   ]
  },
  {
   "cell_type": "markdown",
   "id": "4f780d05",
   "metadata": {},
   "source": [
    "6\\. **Nested functions**\n",
    "\n",
    "Write two functions: one that returns the square of a number, and one that returns its cube.\n",
    "\n",
    "Then, write a third function that returns the number raised to the 6th power, using only the two previous functions."
   ]
  },
  {
   "cell_type": "code",
   "execution_count": 83,
   "id": "d34e4462",
   "metadata": {},
   "outputs": [
    {
     "data": {
      "text/plain": [
       "729"
      ]
     },
     "execution_count": 83,
     "metadata": {},
     "output_type": "execute_result"
    }
   ],
   "source": [
    "def square(x):\n",
    "    return x**2\n",
    "def cube(x):\n",
    "    return square(x)*x\n",
    "\n",
    "def third_function(x):\n",
    "    return cube(x)**2\n",
    "third_function(3)"
   ]
  },
  {
   "cell_type": "markdown",
   "id": "279c24e8",
   "metadata": {},
   "source": [
    "7\\. **Decorators**\n",
    "\n",
    "Write a decorator named `hello` that makes every wrapped function print “Hello World!” each time the function is called.\n",
    "\n",
    "The wrapped function should look like:\n",
    "\n",
    "```python\n",
    "@hello\n",
    "def square(x):\n",
    "    return x*x\n",
    "```"
   ]
  },
  {
   "cell_type": "code",
   "execution_count": 8,
   "id": "8e9c7a6c",
   "metadata": {
    "scrolled": true
   },
   "outputs": [
    {
     "name": "stdout",
     "output_type": "stream",
     "text": [
      "Hello World!\n",
      "4\n"
     ]
    }
   ],
   "source": [
    "def hello(function):\n",
    "    def wrapper(x):\n",
    "        print(\"Hello World!\")\n",
    "        function(x)\n",
    "    return wrapper\n",
    "\n",
    "@hello\n",
    "def square(x):\n",
    "    print(x*x)\n",
    "    \n",
    "square(2)"
   ]
  },
  {
   "cell_type": "markdown",
   "id": "ff75de9c",
   "metadata": {},
   "source": [
    "8\\. **The Fibonacci sequence (part 2)**\n",
    "\n",
    "Calculate the first 20 numbers of the [Fibonacci sequence](https://en.wikipedia.org/wiki/Fibonacci_number) using a recursive function."
   ]
  },
  {
   "cell_type": "code",
   "execution_count": 15,
   "id": "494ed206",
   "metadata": {},
   "outputs": [
    {
     "name": "stdout",
     "output_type": "stream",
     "text": [
      "[0, 1, 1, 2, 3, 5, 8, 13, 21, 34, 55, 89, 144, 233, 377, 610, 987, 1597, 2584, 4181, 6765, 10946]\n"
     ]
    }
   ],
   "source": [
    "def fib(n):\n",
    "    if n<=1:\n",
    "        return n\n",
    "    else:\n",
    "        return fib(n-1)+fib(n-2)\n",
    "l = [fib(i) for i in range(22)]\n",
    "print(l)"
   ]
  },
  {
   "cell_type": "markdown",
   "id": "b4656fcf",
   "metadata": {},
   "source": [
    "9\\. **The Fibonacci sequence (part 3)**\n",
    "\n",
    "Run both the Fibonacci recursive function from the previous exercise, and the Fibonacci function from 01ex that use only `for` and `while` loops.\n",
    "\n",
    "Measure the execution code of the two functions with `timeit` ([link to the doc](https://docs.python.org/3/library/timeit.html)), for example:\n",
    "\n",
    "`%timeit loopFibonacci(20)`\n",
    "\n",
    "`%timeit recursiveFibonacci(20)`\n",
    "\n",
    "which one is the most efficient implementation? By how much?"
   ]
  },
  {
   "cell_type": "code",
   "execution_count": 50,
   "id": "94506222",
   "metadata": {},
   "outputs": [
    {
     "name": "stdout",
     "output_type": "stream",
     "text": [
      "3.85 µs ± 131 ns per loop (mean ± std. dev. of 7 runs, 100,000 loops each)\n",
      "2.14 ms ± 17.4 µs per loop (mean ± std. dev. of 7 runs, 1,000 loops each)\n"
     ]
    }
   ],
   "source": [
    "def fib_rec(n):\n",
    "    if n<=1:\n",
    "        return n\n",
    "    else:\n",
    "        return fib_rec(n-1)+fib_rec(n-2)\n",
    "\n",
    "\n",
    "def fibonacci(n):\n",
    "    fib = []\n",
    "    for i in range(n+1):\n",
    "        if i == 0 or i == 1:\n",
    "            fib.append(i)\n",
    "        else :\n",
    "            fib.append(fib[i-1]+fib[i-2])\n",
    "    return fib[n]\n",
    "\n",
    "%timeit fibonacci(20)\n",
    "\n",
    "%timeit fib_rec(20)"
   ]
  },
  {
   "cell_type": "markdown",
   "id": "6221b2e3",
   "metadata": {},
   "source": [
    "10\\. **Class definition**\n",
    "\n",
    "Define a class `polygon`. The constructor has to take a tuple as input that contains the length of each side. The (unordered) input list does not have to have a fixed length, but should contain at least 3 items.\n",
    "\n",
    "- Create appropriate methods to get and set the length of each side\n",
    "\n",
    "- Create a method `perimeter()` that returns the perimeter of the polygon\n",
    "\n",
    "- Create a method `getOrderedSides(increasing = True)` that returns a tuple containing the length of the sides arranged in increasing or decreasing order, depending on the argument of the method\n",
    "\n",
    "Test the class by creating an instance and calling the `perimeter()` and `getOrderedSides(increasing = True)` methods."
   ]
  },
  {
   "cell_type": "code",
   "execution_count": 77,
   "id": "58e9c1e2",
   "metadata": {},
   "outputs": [
    {
     "name": "stdout",
     "output_type": "stream",
     "text": [
      "length of the last side: 3\n",
      "length after change: 6\n",
      "perimeter: 9\n",
      "[6, 2, 1]\n"
     ]
    }
   ],
   "source": [
    "class polygon:\n",
    "    def __init__(self,t):\n",
    "        self.t = t\n",
    "        \n",
    "    def getLength(self,n):\n",
    "        if n<len(self.t):\n",
    "            return self.t[n]\n",
    "        \n",
    "    def setLength(self,n,L):\n",
    "        if n<len(self.t):\n",
    "            self.t[n] = L\n",
    "                \n",
    "    def perimeter(self):\n",
    "        return(sum(self.t))\n",
    "        \n",
    "    def getOrderedSides(self,increasing = True):\n",
    "        x = self.t\n",
    "        x.sort(reverse = increasing)\n",
    "        return x\n",
    "    \n",
    "t = [1,2,3] \n",
    "p = polygon(t)\n",
    "print('length of the last side:',p.getLength(-1))\n",
    "p.setLength(2,6)\n",
    "print('length after change:',p.getLength(-1))\n",
    "print('perimeter:',p.perimeter())\n",
    "print(p.getOrderedSides())        "
   ]
  },
  {
   "cell_type": "markdown",
   "id": "ac7e1a6b",
   "metadata": {},
   "source": [
    "11\\. **Class inheritance**\n",
    "\n",
    "Define a class `rectangle` that inherits from `polygon`. Modify the constructor, if necessary, to make sure that the input data is consistent with the geometrical properties of a rectangle.\n",
    "\n",
    "- Create a method `area()` that returns the area of the rectangle.\n",
    "\n",
    "Test the `rectangle` class by creating an instance and passing an appropriate input to the constructor."
   ]
  },
  {
   "cell_type": "code",
   "execution_count": 79,
   "id": "0c26ae8b",
   "metadata": {},
   "outputs": [
    {
     "name": "stdout",
     "output_type": "stream",
     "text": [
      "length of the last side: 3\n",
      "perimeter: 10\n",
      "[3, 2]\n",
      "Area of the rectangle: 6\n",
      "length of the last side after change 6\n"
     ]
    }
   ],
   "source": [
    "class rectangle(polygon):\n",
    "    def __init__(self,t):\n",
    "        if len(t) == 2:\n",
    "            self.t = t\n",
    "            \n",
    "    def area(self):\n",
    "        return self.t[0]*self.t[1]\n",
    "    \n",
    "    def perimeter(self):\n",
    "        return(2*sum(self.t))\n",
    "    \n",
    "l = [2,3]\n",
    "r = rectangle(l)\n",
    "print('length of the last side:',r.getLength(-1))\n",
    "print('perimeter:',r.perimeter())\n",
    "print(r.getOrderedSides()) \n",
    "print('Area of the rectangle:',r.area())\n",
    "r.setLength(1,6)\n",
    "print('length of the last side after change',r.getLength(-1))"
   ]
  }
 ],
 "metadata": {
  "kernelspec": {
   "display_name": "Python 3 (ipykernel)",
   "language": "python",
   "name": "python3"
  },
  "language_info": {
   "codemirror_mode": {
    "name": "ipython",
    "version": 3
   },
   "file_extension": ".py",
   "mimetype": "text/x-python",
   "name": "python",
   "nbconvert_exporter": "python",
   "pygments_lexer": "ipython3",
   "version": "3.9.12"
  }
 },
 "nbformat": 4,
 "nbformat_minor": 5
}
